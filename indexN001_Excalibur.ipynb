{
 "cells": [
  {
   "cell_type": "markdown",
   "metadata": {},
   "source": [
    "# CAMELOT & EXCALIBUR\n",
    "\n",
    "[LinkedIn](https://www.linkedin.com/feed/update/urn:li:activity:7221393617804738560/)\n",
    "\n",
    "[Benchmarks](https://github.com/camelot-dev/camelot/wiki/Comparison-with-other-PDF-Table-Extraction-libraries-and-tools)\n",
    "\n",
    "Date : 04-08-24\n",
    "\n",
    "Éditeur : Laurent Reynaud"
   ]
  }
 ],
 "metadata": {
  "language_info": {
   "name": "python"
  }
 },
 "nbformat": 4,
 "nbformat_minor": 2
}
