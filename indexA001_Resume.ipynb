{
 "cells": [
  {
   "cell_type": "markdown",
   "metadata": {},
   "source": [
    "# Résumé d'un texte d'un fichier PDF\n",
    "\n",
    "Résumé d'un texte en fichier pdf transformé en texte puis exporté au format .txt afin de pouvoir effectuer les rectifications nécessaires pour que ce texte soit résumé par ChatGPT : c'est plus rapide que d'effectuer le traitement par les librairies transformers, torch et tensorflow. <br>\n",
    "[Lien sur le résumé d'un texte avec ces librairies](https://inside-machinelearning.com/la-librairie-nlp-ultime/)"
   ]
  },
  {
   "cell_type": "code",
   "execution_count": 11,
   "metadata": {},
   "outputs": [],
   "source": [
    "# pip install transformers\n",
    "# %pip install torch\n",
    "# %pip install tensorflow"
   ]
  },
  {
   "cell_type": "code",
   "execution_count": 3,
   "metadata": {},
   "outputs": [],
   "source": [
    "import fitz # dépendance de la librairie PyMuPDF"
   ]
  },
  {
   "cell_type": "code",
   "execution_count": 30,
   "metadata": {},
   "outputs": [],
   "source": [
    "# Chargement du fichier\n",
    "file_path = 'data/PLF2022.pdf'\n",
    "pdf = fitz.open(file_path)"
   ]
  },
  {
   "cell_type": "code",
   "execution_count": 31,
   "metadata": {},
   "outputs": [],
   "source": [
    "# Récupération du fichier en type str\n",
    "article = pdf.load_page(0).get_text().replace('\\u2009', ' ')\\\n",
    "    .replace('\\u2008', '').replace('\\n', '. ').replace('\\u2002', ' ')"
   ]
  },
  {
   "cell_type": "code",
   "execution_count": 32,
   "metadata": {},
   "outputs": [],
   "source": [
    "# Enregistrement sous format .txt\n",
    "with open('results/article.txt', 'w') as file:\n",
    "    file.write(article)"
   ]
  }
 ],
 "metadata": {
  "kernelspec": {
   "display_name": "Python 3",
   "language": "python",
   "name": "python3"
  },
  "language_info": {
   "codemirror_mode": {
    "name": "ipython",
    "version": 3
   },
   "file_extension": ".py",
   "mimetype": "text/x-python",
   "name": "python",
   "nbconvert_exporter": "python",
   "pygments_lexer": "ipython3",
   "version": "3.9.2"
  }
 },
 "nbformat": 4,
 "nbformat_minor": 2
}
