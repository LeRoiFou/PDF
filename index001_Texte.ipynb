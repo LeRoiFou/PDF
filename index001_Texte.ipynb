{
 "cells": [
  {
   "cell_type": "markdown",
   "metadata": {},
   "source": [
    "# Situation n° 1 : extraction d'un texte\n",
    "\n",
    "L'extraction d'un texte d'un PDF peut-être utilisé pour obtenir une synthèse du texte, une traduction du texte..."
   ]
  },
  {
   "cell_type": "code",
   "execution_count": 2,
   "metadata": {},
   "outputs": [],
   "source": [
    "# pip install PyMuPDF"
   ]
  },
  {
   "cell_type": "code",
   "execution_count": 3,
   "metadata": {},
   "outputs": [],
   "source": [
    "import fitz # dépendance de la librairie PyMuPDF\n",
    "from pprint import pprint"
   ]
  },
  {
   "cell_type": "code",
   "execution_count": 4,
   "metadata": {},
   "outputs": [],
   "source": [
    "# Chargement du fichier\n",
    "file_path = 'data/PLF2022.pdf'\n",
    "pdf = fitz.open(file_path)"
   ]
  },
  {
   "cell_type": "code",
   "execution_count": 5,
   "metadata": {},
   "outputs": [
    {
     "data": {
      "text/plain": [
       "{'format': 'PDF 1.7',\n",
       " 'title': 'Espace abonnés - Editions Francis Lefebvre',\n",
       " 'author': 'lreynaud03',\n",
       " 'subject': '',\n",
       " 'keywords': '',\n",
       " 'creator': '',\n",
       " 'producer': 'Microsoft: Print To PDF',\n",
       " 'creationDate': \"D:20210928104947+02'00'\",\n",
       " 'modDate': \"D:20210928113623+02'00'\",\n",
       " 'trapped': '',\n",
       " 'encryption': None}"
      ]
     },
     "execution_count": 5,
     "metadata": {},
     "output_type": "execute_result"
    }
   ],
   "source": [
    "# Metadonnées\n",
    "pdf.metadata"
   ]
  },
  {
   "cell_type": "code",
   "execution_count": 6,
   "metadata": {},
   "outputs": [
    {
     "data": {
      "text/plain": [
       "2"
      ]
     },
     "execution_count": 6,
     "metadata": {},
     "output_type": "execute_result"
    }
   ],
   "source": [
    "# Nombre de pages\n",
    "pdf.page_count"
   ]
  },
  {
   "cell_type": "code",
   "execution_count": 7,
   "metadata": {},
   "outputs": [
    {
     "data": {
      "text/plain": [
       "[]"
      ]
     },
     "execution_count": 7,
     "metadata": {},
     "output_type": "execute_result"
    }
   ],
   "source": [
    "# Table des matières\n",
    "pdf.get_toc()\n",
    "# Absence de table de matières dans ce fichier"
   ]
  },
  {
   "cell_type": "code",
   "execution_count": 8,
   "metadata": {},
   "outputs": [
    {
     "name": "stdout",
     "output_type": "stream",
     "text": [
      "(\"23/09/2021 | FIL D'INFO DU MODULE COLLABORATEUR DE L'EXPERT COMPTABLE | \"\n",
      " 'Imposition des. bénéfices des entreprises. Les principales mesures fiscales '\n",
      " 'du PLF pour 2022. Projet AN n° 4482. Pas de réelle réforme mais des mesures '\n",
      " 'techniques en matière de TVA, transmission des. entreprises, mise en '\n",
      " 'conformité du droit interne avec le droit de l’UE, etc. au menu du. projet '\n",
      " 'de loi de finances pour 2022.\\u2002. Le projet de loi de finances pour 2022 '\n",
      " 'du Gouvernement, soumis aux députés en séance publique à compter du. 11 '\n",
      " 'octobre prochain, comprend un chapelet de mesures plus ou moins techniques à '\n",
      " 'destination tant des entreprises. que des particuliers. Focus sur les '\n",
      " 'principales mesures.. Mesures à destination des entreprises : la TVA et la '\n",
      " 'transmission des entreprises. à l’honneur. Le PLF pour 2022 contient '\n",
      " 'plusieurs des mesures déjà annoncées dans le Plan en faveur des '\n",
      " 'indépendants. Ainsi,. s’agissant des exonérations des plus-values réalisées '\n",
      " 'dans le cadre d’un départ à la retraite (CGI art. 151 septies. A) ou de la '\n",
      " 'transmission d’une entreprise individuelle (CGI art. 238 quindecies), les '\n",
      " 'règles applicables en cas de. cession d’une activité donnée en '\n",
      " 'location-gérance seraient assouplies afin d’autoriser la cession, dans le '\n",
      " 'respect. du contrat, à une personne autre que le locataire-gérant, sous '\n",
      " 'réserve que cette cession porte sur l’intégralité des. éléments concourant à '\n",
      " 'l’exploitation de l’activité qui a fait l’objet du contrat de '\n",
      " 'location-gérance ou d’un contrat. comparable. En ce qui concerne le premier '\n",
      " 'dispositif, l’augmentation de 24 à 36 mois du délai dans lequel un. '\n",
      " 'entrepreneur doit partir à la retraite et céder son entreprise '\n",
      " 's’appliquerait si ce dernier fait valoir ses droits à la. retraite entre le '\n",
      " '1.  janvier 2019 et le 31 décembre 2021 et si le départ à la retraite '\n",
      " 'précède la cession.. S’agissant du second dispositif, outre l’augmentation '\n",
      " 'déjà annoncée des seuils permettant une exonération totale. ou partielle '\n",
      " '(respectivement 500 000 € au lieu de 300 000 € et 1 000 000 € au lieu de 500 '\n",
      " '000 €), une définition plus. explicite des modalités de détermination de la '\n",
      " 'valeur des actifs transmis serait prévue.. Par ailleurs, le doublement, pour '\n",
      " 'les heures de formation effectuées à partir de 2022, du crédit d’impôt pour '\n",
      " 'la. formation du chef d’entreprise (CGI art. 244 quater M) ne concernerait '\n",
      " 'que les microentreprises au sens de la. règlementation européenne (moins de '\n",
      " '10 salariés et chiffre d’affaires annuel ou total de bilan n’excédant pas 2 '\n",
      " 'M€).. Enfin, en conséquence de la possibilité d’amortissement fiscal des '\n",
      " 'fonds commerciaux acquis du 1  janvier. 2022 au 31 décembre 2023, les '\n",
      " 'conditions dans lesquelles s’articulent ces amortissements avec les '\n",
      " 'provisions pour. dépréciation qui seraient constatées au titre d’un même '\n",
      " 'fonds seraient précisées.. C’est en matière de TVA que l’on trouve les '\n",
      " 'mesures les plus techniques. Parmi ces mesures, présentées comme. de '\n",
      " 'simplification et de mise en conformité avec le droit de l’Union européenne, '\n",
      " 'notons les suivantes :. - les opérateurs du secteur financier pourraient '\n",
      " 'opter opération par opération pour la TVA et non plus. globalement '\n",
      " 's’agissant des opérations bancaires et financières,. - la TVA sur les '\n",
      " 'livraisons de biens serait exigible dès  le  versement d’acomptes  pour  '\n",
      " 'les  acomptes. encaissés à compter du 1  janvier 2023,. - la base '\n",
      " 'd’imposition à la TVA des opérations fournies en contrepartie de la remise '\n",
      " 'd’un bon à usage. multiple serait fixée par rapport à la valeur monétaire '\n",
      " 'indiquée sur le BUM en l’absence d’information sur. l’opération '\n",
      " 'sous-jacente,. - la réforme de la gestion de la TVA à l’importation, '\n",
      " 'conduisant les assujettis à déclarer l’ensemble de leur. TVA auprès de la '\n",
      " 'DGFiP à compter du 1.  janvier 2022, serait étendue aux personnes  morales  '\n",
      " 'non. assujetties qui sont identifiées à la TVA,. -  les  taux  réduits  de  '\n",
      " 'TVA  applicables  dans  les  secteurs  agroalimentaire  et  de  la  santé  '\n",
      " 'feraient. er. er. er. er. Espace abonnés - Editions Francis Lefebvre. '\n",
      " 'https://abonnes.efl.fr/portail/actusdetail.no?ezId=206887&isFirstConn.... 1 '\n",
      " 'sur 2. 28/09/2021 à 10:49. ')\n"
     ]
    }
   ],
   "source": [
    "# Affichage du texte de la première page\n",
    "pprint(pdf.load_page(0).get_text().replace('\\u2009', ' ')\\\n",
    "    .replace('\\u2008', '').replace('\\n', '. '))"
   ]
  },
  {
   "cell_type": "code",
   "execution_count": 9,
   "metadata": {},
   "outputs": [
    {
     "name": "stdout",
     "output_type": "stream",
     "text": [
      "[\"23/09/2021 | FIL D'INFO DU MODULE COLLABORATEUR DE L'EXPERT COMPTABLE | \"\n",
      " 'Imposition des. bénéfices des entreprises. Les principales mesures fiscales '\n",
      " 'du PLF pour 2022. Projet AN n° 4482. Pas de réelle réforme mais des mesures '\n",
      " 'techniques en matière de TVA, transmission des. entreprises, mise en '\n",
      " 'conformité du droit interne avec le droit de l’UE, etc. au menu du. projet '\n",
      " 'de loi de finances pour 2022.\\u2002. Le projet de loi de finances pour 2022 '\n",
      " 'du Gouvernement, soumis aux députés en séance publique à compter du. 11 '\n",
      " 'octobre prochain, comprend un chapelet de mesures plus ou moins techniques à '\n",
      " 'destination tant des entreprises. que des particuliers. Focus sur les '\n",
      " 'principales mesures.. Mesures à destination des entreprises : la TVA et la '\n",
      " 'transmission des entreprises. à l’honneur. Le PLF pour 2022 contient '\n",
      " 'plusieurs des mesures déjà annoncées dans le Plan en faveur des '\n",
      " 'indépendants. Ainsi,. s’agissant des exonérations des plus-values réalisées '\n",
      " 'dans le cadre d’un départ à la retraite (CGI art. 151 septies. A) ou de la '\n",
      " 'transmission d’une entreprise individuelle (CGI art. 238 quindecies), les '\n",
      " 'règles applicables en cas de. cession d’une activité donnée en '\n",
      " 'location-gérance seraient assouplies afin d’autoriser la cession, dans le '\n",
      " 'respect. du contrat, à une personne autre que le locataire-gérant, sous '\n",
      " 'réserve que cette cession porte sur l’intégralité des. éléments concourant à '\n",
      " 'l’exploitation de l’activité qui a fait l’objet du contrat de '\n",
      " 'location-gérance ou d’un contrat. comparable. En ce qui concerne le premier '\n",
      " 'dispositif, l’augmentation de 24 à 36 mois du délai dans lequel un. '\n",
      " 'entrepreneur doit partir à la retraite et céder son entreprise '\n",
      " 's’appliquerait si ce dernier fait valoir ses droits à la. retraite entre le '\n",
      " '1.  janvier 2019 et le 31 décembre 2021 et si le départ à la retraite '\n",
      " 'précède la cession.. S’agissant du second dispositif, outre l’augmentation '\n",
      " 'déjà annoncée des seuils permettant une exonération totale. ou partielle '\n",
      " '(respectivement 500 000 € au lieu de 300 000 € et 1 000 000 € au lieu de 500 '\n",
      " '000 €), une définition plus. explicite des modalités de détermination de la '\n",
      " 'valeur des actifs transmis serait prévue.. Par ailleurs, le doublement, pour '\n",
      " 'les heures de formation effectuées à partir de 2022, du crédit d’impôt pour '\n",
      " 'la. formation du chef d’entreprise (CGI art. 244 quater M) ne concernerait '\n",
      " 'que les microentreprises au sens de la. règlementation européenne (moins de '\n",
      " '10 salariés et chiffre d’affaires annuel ou total de bilan n’excédant pas 2 '\n",
      " 'M€).. Enfin, en conséquence de la possibilité d’amortissement fiscal des '\n",
      " 'fonds commerciaux acquis du 1  janvier. 2022 au 31 décembre 2023, les '\n",
      " 'conditions dans lesquelles s’articulent ces amortissements avec les '\n",
      " 'provisions pour. dépréciation qui seraient constatées au titre d’un même '\n",
      " 'fonds seraient précisées.. C’est en matière de TVA que l’on trouve les '\n",
      " 'mesures les plus techniques. Parmi ces mesures, présentées comme. de '\n",
      " 'simplification et de mise en conformité avec le droit de l’Union européenne, '\n",
      " 'notons les suivantes :. - les opérateurs du secteur financier pourraient '\n",
      " 'opter opération par opération pour la TVA et non plus. globalement '\n",
      " 's’agissant des opérations bancaires et financières,. - la TVA sur les '\n",
      " 'livraisons de biens serait exigible dès  le  versement d’acomptes  pour  '\n",
      " 'les  acomptes. encaissés à compter du 1  janvier 2023,. - la base '\n",
      " 'd’imposition à la TVA des opérations fournies en contrepartie de la remise '\n",
      " 'd’un bon à usage. multiple serait fixée par rapport à la valeur monétaire '\n",
      " 'indiquée sur le BUM en l’absence d’information sur. l’opération '\n",
      " 'sous-jacente,. - la réforme de la gestion de la TVA à l’importation, '\n",
      " 'conduisant les assujettis à déclarer l’ensemble de leur. TVA auprès de la '\n",
      " 'DGFiP à compter du 1.  janvier 2022, serait étendue aux personnes  morales  '\n",
      " 'non. assujetties qui sont identifiées à la TVA,. -  les  taux  réduits  de  '\n",
      " 'TVA  applicables  dans  les  secteurs  agroalimentaire  et  de  la  santé  '\n",
      " 'feraient. er. er. er. er. Espace abonnés - Editions Francis Lefebvre. '\n",
      " 'https://abonnes.efl.fr/portail/actusdetail.no?ezId=206887&isFirstConn.... 1 '\n",
      " 'sur 2. 28/09/2021 à 10:49. ']\n"
     ]
    }
   ],
   "source": [
    "# Fonction pour récupérer tout le texte du fichier\n",
    "def get_book_content(pdf_file):\n",
    "    \n",
    "    # Récupération du nombre de pages\n",
    "    num_pages = pdf_file.page_count\n",
    "    \n",
    "    # Assignation d'une liste\n",
    "    book_content = []\n",
    "    \n",
    "    # Pour chaque page du fichier...\n",
    "    for i in range(0, num_pages + 1):\n",
    "        \n",
    "        # Chargement du texte de chaque page\n",
    "        page = pdf_file.load_page(i)\n",
    "        \n",
    "        # Récupération du texte chargé\n",
    "        page_text = page.get_text()\n",
    "        \n",
    "        # Remplacement de certains caractères\n",
    "        replace_text = page_text.replace('\\u2009', ' ').replace('\\u2008', '')\\\n",
    "                                .replace('\\n', '. ')\n",
    "        \n",
    "        # Alimentation des données dans la liste assignée ci-avant\n",
    "        book_content.append(replace_text)\n",
    "        \n",
    "        return book_content\n",
    "    \n",
    "book = get_book_content(pdf)\n",
    "pprint(book)"
   ]
  }
 ],
 "metadata": {
  "kernelspec": {
   "display_name": "Python 3",
   "language": "python",
   "name": "python3"
  },
  "language_info": {
   "codemirror_mode": {
    "name": "ipython",
    "version": 3
   },
   "file_extension": ".py",
   "mimetype": "text/x-python",
   "name": "python",
   "nbconvert_exporter": "python",
   "pygments_lexer": "ipython3",
   "version": "3.9.2"
  }
 },
 "nbformat": 4,
 "nbformat_minor": 2
}
