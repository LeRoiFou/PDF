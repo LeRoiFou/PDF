{
 "cells": [
  {
   "cell_type": "markdown",
   "metadata": {},
   "source": [
    "Pour les relevés bancaires, on a des lignes vides :\n",
    "Deux lignes de saisie pour le libellé de l'opération et une seule ligne de saisie pour le montant au débit / crédit à titre d'exemple\n",
    "\n",
    "Or, ces lignes vides ne sont pas prises en comptes dans cette librairie, générant donc des extractions de données décalées entre colonnes.\n",
    "\n",
    "Date : 18-03-24\n",
    "Éditeur : Laurent Reynaud"
   ]
  },
  {
   "cell_type": "code",
   "execution_count": 1,
   "metadata": {},
   "outputs": [],
   "source": [
    "import fitz # dépendance de la librairie PyMuPDF\n",
    "from pprint import pprint\n",
    "import pandas as pd"
   ]
  },
  {
   "cell_type": "code",
   "execution_count": 2,
   "metadata": {},
   "outputs": [],
   "source": [
    "# Chargement\n",
    "file_path = 'D:\\\\_FichiersTravailles\\\\Grand Livre LAB Compta LABL du 01_01_2021 au 31_12_2021.pdf'\n",
    "pdf = fitz.open(file_path)"
   ]
  },
  {
   "cell_type": "code",
   "execution_count": 3,
   "metadata": {},
   "outputs": [
    {
     "data": {
      "text/plain": [
       "268"
      ]
     },
     "execution_count": 3,
     "metadata": {},
     "output_type": "execute_result"
    }
   ],
   "source": [
    "# Nombre de pages\n",
    "pdf.page_count"
   ]
  },
  {
   "cell_type": "code",
   "execution_count": 4,
   "metadata": {},
   "outputs": [],
   "source": [
    "# Récupération de la page X - 1\n",
    "page = pdf[1]"
   ]
  },
  {
   "cell_type": "code",
   "execution_count": 5,
   "metadata": {},
   "outputs": [
    {
     "name": "stdout",
     "output_type": "stream",
     "text": [
      "1 table(s) on page 1 of D:\\_FichiersTravailles\\Grand Livre LAB Compta LABL du 01_01_2021 au 31_12_2021.pdf\n"
     ]
    }
   ],
   "source": [
    "# Recherchez s'il y a des tables sur cette page\n",
    "tabs = page.find_tables() \n",
    "print(f\"{len (tabs.tables)} table(s) on {page}\") "
   ]
  },
  {
   "cell_type": "code",
   "execution_count": 8,
   "metadata": {},
   "outputs": [],
   "source": [
    "# Extraction de la table de la page ciblée\n",
    "tab = tabs[0].extract()"
   ]
  },
  {
   "cell_type": "code",
   "execution_count": 9,
   "metadata": {},
   "outputs": [
    {
     "data": {
      "text/plain": [
       "[['Compta LABL Grand Livre 2 / 268\\n2021'],\n",
       " ['Date Journal Libellé Référence Lettrage Débit Crédit Solde'],\n",
       " ['4110000 (Clients)'],\n",
       " ['Solde du compte 4110000 (Clients) 488 529,25 405 463,68 83 065,57 D'],\n",
       " ['4210000 (Personnel - Rémunérations dues)'],\n",
       " ['Solde du compte 4210000 (Personnel - Rémunérations dues) 870 321,46 946 386,81 76 065,35 C'],\n",
       " ['4250000 (Personnel - Avances et acomptes)'],\n",
       " ['Solde du compte 4250000 (Personnel - Avances et acomptes) 19 273,25 18 310,00 963,25 D'],\n",
       " ['4270000 (Personnel - Oppositions)'],\n",
       " ['Solde du compte 4270000 (Personnel - Oppositions) 287,63 287,63 0,00'],\n",
       " ['4282000 (Dettes provisionnées pour congés à payer)'],\n",
       " ['01/01/2021 AN provisions pour congés payés 8458,96 8 458,96 C\\n01/01/2021 AN Régu CONGES PAYES 869,75 9 328,71 C\\n01/01/2021 OD annul provisions conges payes exercice 2020 9328,91 0,20 D\\n31/12/2021 OD PROV. CONGES PAYES AU 31/12/2021 37305,59 37 305,39 C'],\n",
       " ['Solde du compte 4282000 (Dettes provisionnées pour congés à payer) 9 328,91 46 634,30 37 305,39 C'],\n",
       " ['4310000 (URSSAF)'],\n",
       " ['01/01/2021 AN Paie décembre 2020 5132,58 5 132,58 C\\n01/01/2021 AN Paie novembre 2020 4373,92 9 506,50 C\\n01/01/2021 AN Paie octobre 2020 3554,35 13 060,85 C\\n01/01/2021 AN Paie septembre 2020 2298,26 15 359,11 C\\n01/01/2021 AN Paie août 2020 1943,19 17 302,30 C\\n01/01/2021 AN Paie juillet 2020 1347,23 18 649,53 C\\n01/01/2021 AN Paie juin 2020 242,52 18 892,05 C\\n01/01/2021 AN pvt urssaf erreur saisie 242,00 18 650,05 C\\n31/01/2021 PA Paie janvier 2021 5215,81 23 865,86 C\\n28/02/2021 PA Paie février 2021 6281,91 30 147,77 C\\n31/03/2021 PA Paie mars 2021 7385,65 37 533,42 C\\n30/04/2021 PA Paie avril 2021 9084,67 46 618,09 C\\n31/05/2021 PA Paie mai 2021 9441,60 56 059,69 C\\n30/06/2021 PA Paie juin 2021 10912,65 66 972,34 C\\n31/07/2021 PA Paie juillet 2021 11905,07 78 877,41 C\\n31/08/2021 PA Paie août 2021 12018,60 90 896,01 C\\n30/09/2021 PA Paie septembre 2021 11052,30 101 948,31 C\\n31/10/2021 PA Paie octobre 2021 12659,73 114 608,04 C\\n30/11/2021 PA Paie novembre 2021 13460,67 128 068,71 C\\n31/12/2021 PA Paie décembre 2021 16363,66 144 432,37 C\\n31/12/2021 OD DIFF REGLT / COTIS. URSSAF 2021 2,68 144 435,05 C'],\n",
       " ['Solde du compte 4310000 (URSSAF) 242,00 144 677,05 144 435,05 C'],\n",
       " ['4373000 (Caisses de retraite)'],\n",
       " ['01/01/2021 AN Paie décembre 2020 1124,55 1 124,55 C\\n01/01/2021 AN Paie novembre 2020 971,19 2 095,74 C\\n01/01/2021 AN Paie octobre 2020 785,37 2 881,11 C\\n01/01/2021 AN Paie septembre 2020 545,89 3 427,00 C\\n01/01/2021 AN Paie août 2020 400,77 3 827,77 C\\n01/01/2021 AN Paie juillet 2020 273,77 4 101,54 C\\n01/01/2021 AN Paie juin 2020 48,41 4 149,95 C\\n31/01/2021 PA Paie janvier 2021 1132,83 5 282,78 C\\n28/02/2021 PA Paie février 2021 1310,52 6 593,30 C\\n31/03/2021 PA Paie mars 2021 1609,22 8 202,52 C\\n30/04/2021 PA Paie avril 2021 2018,32 10 220,84 C\\n31/05/2021 PA Paie mai 2021 2110,01 12 330,85 C\\n30/06/2021 PA Paie juin 2021 2440,15 14 771,00 C\\n31/07/2021 PA Paie juillet 2021 2628,44 17 399,44 C\\n31/08/2021 PA Paie août 2021 2764,99 20 164,43 C\\n30/09/2021 PA Paie septembre 2021 2457,99 22 622,42 C\\n31/10/2021 PA Paie octobre 2021 2792,69 25 415,11 C\\n30/11/2021 PA Paie novembre 2021 2971,86 28 386,97 C\\n31/12/2021 PA Paie décembre 2021 3751,64 32 138,61 C'],\n",
       " ['Solde du compte 4373000 (Caisses de retraite) 32 138,61 32 138,61 C'],\n",
       " ['4374000 (Caisse de prévoyance)'],\n",
       " ['01/01/2021 AN axa 61,76 61,76 C\\n21/09/2021 BQ VIREMENT PREVOYANCE CADRE 114,46 52,70 D\\n02/11/2021 BQ axa vrt 131,75 184,45 D\\n31/12/2021 OD AG2R Prévoyances 4ème trimestre 2021 3280,37 3 095,92 C\\n31/12/2021 PA année 2021 prévoyance axa cadre 149,85 3 245,77 C\\n31/12/2021 PA axa prevoyance cadre 2021 34,60 3 280,37 C'],\n",
       " ['Solde du compte 4374000 (Caisse de prévoyance) 246,21 3 526,58 3 280,37 C'],\n",
       " ['4375000 (Mutuelle collective)']]"
      ]
     },
     "execution_count": 9,
     "metadata": {},
     "output_type": "execute_result"
    }
   ],
   "source": [
    "tab"
   ]
  },
  {
   "cell_type": "code",
   "execution_count": 7,
   "metadata": {},
   "outputs": [
    {
     "data": {
      "text/html": [
       "<div>\n",
       "<style scoped>\n",
       "    .dataframe tbody tr th:only-of-type {\n",
       "        vertical-align: middle;\n",
       "    }\n",
       "\n",
       "    .dataframe tbody tr th {\n",
       "        vertical-align: top;\n",
       "    }\n",
       "\n",
       "    .dataframe thead th {\n",
       "        text-align: right;\n",
       "    }\n",
       "</style>\n",
       "<table border=\"1\" class=\"dataframe\">\n",
       "  <thead>\n",
       "    <tr style=\"text-align: right;\">\n",
       "      <th></th>\n",
       "      <th>Compta LABL Grand Livre 2 / 268\\n2021</th>\n",
       "    </tr>\n",
       "  </thead>\n",
       "  <tbody>\n",
       "    <tr>\n",
       "      <th>0</th>\n",
       "      <td>Date Journal Libellé Référence Lettrage Débit ...</td>\n",
       "    </tr>\n",
       "    <tr>\n",
       "      <th>1</th>\n",
       "      <td>4110000 (Clients)</td>\n",
       "    </tr>\n",
       "    <tr>\n",
       "      <th>2</th>\n",
       "      <td>Solde du compte 4110000 (Clients) 488 529,25 4...</td>\n",
       "    </tr>\n",
       "    <tr>\n",
       "      <th>3</th>\n",
       "      <td>4210000 (Personnel - Rémunérations dues)</td>\n",
       "    </tr>\n",
       "    <tr>\n",
       "      <th>4</th>\n",
       "      <td>Solde du compte 4210000 (Personnel - Rémunérat...</td>\n",
       "    </tr>\n",
       "    <tr>\n",
       "      <th>5</th>\n",
       "      <td>4250000 (Personnel - Avances et acomptes)</td>\n",
       "    </tr>\n",
       "    <tr>\n",
       "      <th>6</th>\n",
       "      <td>Solde du compte 4250000 (Personnel - Avances e...</td>\n",
       "    </tr>\n",
       "    <tr>\n",
       "      <th>7</th>\n",
       "      <td>4270000 (Personnel - Oppositions)</td>\n",
       "    </tr>\n",
       "    <tr>\n",
       "      <th>8</th>\n",
       "      <td>Solde du compte 4270000 (Personnel - Oppositio...</td>\n",
       "    </tr>\n",
       "    <tr>\n",
       "      <th>9</th>\n",
       "      <td>4282000 (Dettes provisionnées pour congés à pa...</td>\n",
       "    </tr>\n",
       "    <tr>\n",
       "      <th>10</th>\n",
       "      <td>01/01/2021 AN provisions pour congés payés 845...</td>\n",
       "    </tr>\n",
       "    <tr>\n",
       "      <th>11</th>\n",
       "      <td>Solde du compte 4282000 (Dettes provisionnées ...</td>\n",
       "    </tr>\n",
       "    <tr>\n",
       "      <th>12</th>\n",
       "      <td>4310000 (URSSAF)</td>\n",
       "    </tr>\n",
       "    <tr>\n",
       "      <th>13</th>\n",
       "      <td>01/01/2021 AN Paie décembre 2020 5132,58 5 132...</td>\n",
       "    </tr>\n",
       "    <tr>\n",
       "      <th>14</th>\n",
       "      <td>Solde du compte 4310000 (URSSAF) 242,00 144 67...</td>\n",
       "    </tr>\n",
       "    <tr>\n",
       "      <th>15</th>\n",
       "      <td>4373000 (Caisses de retraite)</td>\n",
       "    </tr>\n",
       "    <tr>\n",
       "      <th>16</th>\n",
       "      <td>01/01/2021 AN Paie décembre 2020 1124,55 1 124...</td>\n",
       "    </tr>\n",
       "    <tr>\n",
       "      <th>17</th>\n",
       "      <td>Solde du compte 4373000 (Caisses de retraite) ...</td>\n",
       "    </tr>\n",
       "    <tr>\n",
       "      <th>18</th>\n",
       "      <td>4374000 (Caisse de prévoyance)</td>\n",
       "    </tr>\n",
       "    <tr>\n",
       "      <th>19</th>\n",
       "      <td>01/01/2021 AN axa 61,76 61,76 C\\n21/09/2021 BQ...</td>\n",
       "    </tr>\n",
       "    <tr>\n",
       "      <th>20</th>\n",
       "      <td>Solde du compte 4374000 (Caisse de prévoyance)...</td>\n",
       "    </tr>\n",
       "    <tr>\n",
       "      <th>21</th>\n",
       "      <td>4375000 (Mutuelle collective)</td>\n",
       "    </tr>\n",
       "  </tbody>\n",
       "</table>\n",
       "</div>"
      ],
      "text/plain": [
       "                Compta LABL Grand Livre 2 / 268\\n2021\n",
       "0   Date Journal Libellé Référence Lettrage Débit ...\n",
       "1                                   4110000 (Clients)\n",
       "2   Solde du compte 4110000 (Clients) 488 529,25 4...\n",
       "3            4210000 (Personnel - Rémunérations dues)\n",
       "4   Solde du compte 4210000 (Personnel - Rémunérat...\n",
       "5           4250000 (Personnel - Avances et acomptes)\n",
       "6   Solde du compte 4250000 (Personnel - Avances e...\n",
       "7                   4270000 (Personnel - Oppositions)\n",
       "8   Solde du compte 4270000 (Personnel - Oppositio...\n",
       "9   4282000 (Dettes provisionnées pour congés à pa...\n",
       "10  01/01/2021 AN provisions pour congés payés 845...\n",
       "11  Solde du compte 4282000 (Dettes provisionnées ...\n",
       "12                                   4310000 (URSSAF)\n",
       "13  01/01/2021 AN Paie décembre 2020 5132,58 5 132...\n",
       "14  Solde du compte 4310000 (URSSAF) 242,00 144 67...\n",
       "15                      4373000 (Caisses de retraite)\n",
       "16  01/01/2021 AN Paie décembre 2020 1124,55 1 124...\n",
       "17  Solde du compte 4373000 (Caisses de retraite) ...\n",
       "18                     4374000 (Caisse de prévoyance)\n",
       "19  01/01/2021 AN axa 61,76 61,76 C\\n21/09/2021 BQ...\n",
       "20  Solde du compte 4374000 (Caisse de prévoyance)...\n",
       "21                      4375000 (Mutuelle collective)"
      ]
     },
     "execution_count": 7,
     "metadata": {},
     "output_type": "execute_result"
    }
   ],
   "source": [
    "# Alimentation de la table dans une DF pandas\n",
    "df = pd.DataFrame(\n",
    "    tab[1:], # Contenu de la table\n",
    "    columns=tab[0] # En-tête de la table\n",
    "    )\n",
    "df"
   ]
  }
 ],
 "metadata": {
  "kernelspec": {
   "display_name": "Python 3",
   "language": "python",
   "name": "python3"
  },
  "language_info": {
   "codemirror_mode": {
    "name": "ipython",
    "version": 3
   },
   "file_extension": ".py",
   "mimetype": "text/x-python",
   "name": "python",
   "nbconvert_exporter": "python",
   "pygments_lexer": "ipython3",
   "version": "3.9.2"
  }
 },
 "nbformat": 4,
 "nbformat_minor": 2
}
